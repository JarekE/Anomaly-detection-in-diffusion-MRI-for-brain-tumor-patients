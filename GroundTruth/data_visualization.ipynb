{
 "cells": [
  {
   "cell_type": "code",
   "execution_count": null,
   "metadata": {
    "collapsed": true,
    "pycharm": {
     "name": "#%% Visualization of Data\n"
    }
   },
   "outputs": [],
   "source": [
    "# Idea: Load images, show them, save data-information for BraTS Pipeline\n",
    "\n",
    "import numpy as np\n",
    "import matplotlib.pyplot as plt\n",
    "import nibabel as nib\n",
    "from glob import glob\n",
    "\n",
    "dir_t1 = \"...\"\n",
    "dir_flair = \"...\"\n",
    "\n",
    "#'/images/Diffusion_Imaging/uka_gliom/ma_ecke/vp2/{m}.nii.gz'\n",
    "\n",
    "imgs = [nib.load(f'/images/Diffusion_Imaging/uka_gliom/ma_ecke/vp2/{m}.nii.gz').get_fdata().astype(np.float32)[:, :, 75] for m in [\"t1_skullstripped\", \"t2_flair_masked\"]]\n",
    "#lbl = nib.load(\"/data/BraTS2021_train/BraTS2021_00000/BraTS2021_00000_seg.nii.gz\").get_fdata().astype(np.uint8)[:, :, 75]\n",
    "fig, ax = plt.subplots(nrows=1, ncols=2, figsize=(15, 15))\n",
    "for i, img in enumerate(imgs):\n",
    "    ax[i].imshow(img, cmap='gray')\n",
    "    ax[i].axis('off')\n",
    "#ax[-1].imshow(lbl, vmin=0, vmax=4)\n",
    "#ax[-1].axis('off')\n",
    "plt.tight_layout()\n",
    "plt.show()"
   ]
  }
 ],
 "metadata": {
  "kernelspec": {
   "display_name": "Python 3",
   "language": "python",
   "name": "python3"
  },
  "language_info": {
   "codemirror_mode": {
    "name": "ipython",
    "version": 2
   },
   "file_extension": ".py",
   "mimetype": "text/x-python",
   "name": "python",
   "nbconvert_exporter": "python",
   "pygments_lexer": "ipython2",
   "version": "2.7.6"
  }
 },
 "nbformat": 4,
 "nbformat_minor": 0
}